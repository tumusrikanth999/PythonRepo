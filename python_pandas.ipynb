{
  "nbformat": 4,
  "nbformat_minor": 0,
  "metadata": {
    "colab": {
      "provenance": []
    },
    "kernelspec": {
      "name": "python3",
      "display_name": "Python 3"
    },
    "language_info": {
      "name": "python"
    }
  },
  "cells": [
    {
      "cell_type": "code",
      "execution_count": 1,
      "metadata": {
        "id": "wKejS46wY5r1"
      },
      "outputs": [],
      "source": [
        "import pandas as pd\n",
        "import numpy as np"
      ]
    },
    {
      "cell_type": "code",
      "source": [
        "departments=pd.read_csv(\"/content/MOCK_DATA1.csv\")\n",
        "projects=pd.read_csv(\"/content/MOCK_DATA2.csv\")\n",
        "employees=pd.read_csv(\"/content/MOCK_DATA.csv\")"
      ],
      "metadata": {
        "id": "jFoVlKPSZDMs"
      },
      "execution_count": 2,
      "outputs": []
    },
    {
      "cell_type": "code",
      "source": [
        "departments=departments['name']"
      ],
      "metadata": {
        "id": "pIImMOxg7q_b"
      },
      "execution_count": 3,
      "outputs": []
    },
    {
      "cell_type": "code",
      "source": [
        "departments.drop_duplicates(inplace=True)"
      ],
      "metadata": {
        "id": "tDdsNg_VZSOw"
      },
      "execution_count": 4,
      "outputs": []
    },
    {
      "cell_type": "code",
      "source": [
        "departments = departments.reset_index(drop=True)"
      ],
      "metadata": {
        "id": "IzHchPGZbd8k"
      },
      "execution_count": 5,
      "outputs": []
    },
    {
      "cell_type": "code",
      "source": [
        "departments = departments.reset_index().rename(columns={'index': 'id'})"
      ],
      "metadata": {
        "id": "oaVn215jZnLg"
      },
      "execution_count": 6,
      "outputs": []
    },
    {
      "cell_type": "code",
      "source": [
        "departments['id'] = departments['id'] + 1"
      ],
      "metadata": {
        "id": "4OAEJWgmgR3t"
      },
      "execution_count": 7,
      "outputs": []
    },
    {
      "cell_type": "code",
      "source": [
        "departments.info()"
      ],
      "metadata": {
        "colab": {
          "base_uri": "https://localhost:8080/"
        },
        "id": "dAGdY3zn9a1q",
        "outputId": "dedf4eda-ba89-4ac7-d92b-a06acf94bce8"
      },
      "execution_count": 8,
      "outputs": [
        {
          "output_type": "stream",
          "name": "stdout",
          "text": [
            "<class 'pandas.core.frame.DataFrame'>\n",
            "RangeIndex: 12 entries, 0 to 11\n",
            "Data columns (total 2 columns):\n",
            " #   Column  Non-Null Count  Dtype \n",
            "---  ------  --------------  ----- \n",
            " 0   id      12 non-null     int64 \n",
            " 1   name    12 non-null     object\n",
            "dtypes: int64(1), object(1)\n",
            "memory usage: 324.0+ bytes\n"
          ]
        }
      ]
    },
    {
      "cell_type": "code",
      "source": [
        "departments[\"name\"]=departments[\"name\"].convert_dtypes(pd.StringDtype)"
      ],
      "metadata": {
        "id": "V-5tTGxE9gSj"
      },
      "execution_count": 9,
      "outputs": []
    },
    {
      "cell_type": "code",
      "source": [
        "departments.info()"
      ],
      "metadata": {
        "colab": {
          "base_uri": "https://localhost:8080/"
        },
        "id": "BJFWkROf_mN2",
        "outputId": "585d7836-94d2-4b8d-c083-da35090deb38"
      },
      "execution_count": 10,
      "outputs": [
        {
          "output_type": "stream",
          "name": "stdout",
          "text": [
            "<class 'pandas.core.frame.DataFrame'>\n",
            "RangeIndex: 12 entries, 0 to 11\n",
            "Data columns (total 2 columns):\n",
            " #   Column  Non-Null Count  Dtype \n",
            "---  ------  --------------  ----- \n",
            " 0   id      12 non-null     int64 \n",
            " 1   name    12 non-null     string\n",
            "dtypes: int64(1), string(1)\n",
            "memory usage: 324.0 bytes\n"
          ]
        }
      ]
    },
    {
      "cell_type": "code",
      "source": [
        "departments.to_csv(\"departments.csv\",index=False)"
      ],
      "metadata": {
        "id": "t-YHsE8cAdoo"
      },
      "execution_count": 11,
      "outputs": []
    },
    {
      "cell_type": "code",
      "source": [
        "projects = projects[[\"name\", \"start_date\", \"end_date\"]]"
      ],
      "metadata": {
        "id": "g8BN6mLncU_6"
      },
      "execution_count": 12,
      "outputs": []
    },
    {
      "cell_type": "code",
      "source": [
        "projects.drop_duplicates(subset=\"name\",inplace=True)"
      ],
      "metadata": {
        "colab": {
          "base_uri": "https://localhost:8080/"
        },
        "id": "cH4lLp6gcWY5",
        "outputId": "ee9f1a76-9710-4d53-ff9f-2958da3af8d6"
      },
      "execution_count": 13,
      "outputs": [
        {
          "output_type": "stream",
          "name": "stderr",
          "text": [
            "<ipython-input-13-89e348fecd6d>:1: SettingWithCopyWarning: \n",
            "A value is trying to be set on a copy of a slice from a DataFrame\n",
            "\n",
            "See the caveats in the documentation: https://pandas.pydata.org/pandas-docs/stable/user_guide/indexing.html#returning-a-view-versus-a-copy\n",
            "  projects.drop_duplicates(subset=\"name\",inplace=True)\n"
          ]
        }
      ]
    },
    {
      "cell_type": "code",
      "source": [
        "projects = projects.reset_index(drop=True)"
      ],
      "metadata": {
        "id": "syZ4xjSS87TM"
      },
      "execution_count": 14,
      "outputs": []
    },
    {
      "cell_type": "code",
      "source": [
        "projects = projects.reset_index().rename(columns={'index': 'id'})"
      ],
      "metadata": {
        "id": "isuFLDuC89Ow"
      },
      "execution_count": 15,
      "outputs": []
    },
    {
      "cell_type": "code",
      "source": [
        "projects['id'] = projects['id'] + 1"
      ],
      "metadata": {
        "id": "JxJw4jcz8xmi"
      },
      "execution_count": 16,
      "outputs": []
    },
    {
      "cell_type": "code",
      "source": [
        "projects.info()"
      ],
      "metadata": {
        "colab": {
          "base_uri": "https://localhost:8080/"
        },
        "id": "Qje-Y_Pk9bZ6",
        "outputId": "52d133a0-0b24-4e6e-b40f-e22c15e6ef7f"
      },
      "execution_count": 17,
      "outputs": [
        {
          "output_type": "stream",
          "name": "stdout",
          "text": [
            "<class 'pandas.core.frame.DataFrame'>\n",
            "RangeIndex: 39 entries, 0 to 38\n",
            "Data columns (total 4 columns):\n",
            " #   Column      Non-Null Count  Dtype \n",
            "---  ------      --------------  ----- \n",
            " 0   id          39 non-null     int64 \n",
            " 1   name        39 non-null     object\n",
            " 2   start_date  39 non-null     object\n",
            " 3   end_date    39 non-null     object\n",
            "dtypes: int64(1), object(3)\n",
            "memory usage: 1.3+ KB\n"
          ]
        }
      ]
    },
    {
      "cell_type": "code",
      "source": [
        "projects[\"start_date\"] = pd.to_datetime(projects[\"start_date\"])"
      ],
      "metadata": {
        "id": "2AYEppKx-fjf"
      },
      "execution_count": 18,
      "outputs": []
    },
    {
      "cell_type": "code",
      "source": [
        "projects[\"end_date\"] = pd.to_datetime(projects[\"end_date\"])"
      ],
      "metadata": {
        "id": "Hobw_3zJ-Z8D"
      },
      "execution_count": 19,
      "outputs": []
    },
    {
      "cell_type": "code",
      "source": [
        "projects[\"name\"] = projects[\"name\"].convert_dtypes(pd.StringDtype)"
      ],
      "metadata": {
        "id": "bpGJORfy-_o4"
      },
      "execution_count": 20,
      "outputs": []
    },
    {
      "cell_type": "code",
      "source": [
        "projects.to_csv(\"projects.csv\",index=False)"
      ],
      "metadata": {
        "id": "orTCoQxzAp20"
      },
      "execution_count": 21,
      "outputs": []
    },
    {
      "cell_type": "code",
      "source": [
        "employees.info()"
      ],
      "metadata": {
        "colab": {
          "base_uri": "https://localhost:8080/"
        },
        "id": "65NTjk1igwJR",
        "outputId": "702b35e9-f979-4cc3-e8e2-ee32985b6537"
      },
      "execution_count": 22,
      "outputs": [
        {
          "output_type": "stream",
          "name": "stdout",
          "text": [
            "<class 'pandas.core.frame.DataFrame'>\n",
            "RangeIndex: 1000 entries, 0 to 999\n",
            "Data columns (total 5 columns):\n",
            " #   Column         Non-Null Count  Dtype \n",
            "---  ------         --------------  ----- \n",
            " 0   id             1000 non-null   int64 \n",
            " 1   name           1000 non-null   object\n",
            " 2   department_id  1000 non-null   object\n",
            " 3   salary         1000 non-null   object\n",
            " 4   hire_date      1000 non-null   object\n",
            "dtypes: int64(1), object(4)\n",
            "memory usage: 39.2+ KB\n"
          ]
        }
      ]
    },
    {
      "cell_type": "code",
      "source": [
        "employees[\"name\"] = employees[\"name\"].convert_dtypes(pd.StringDtype)"
      ],
      "metadata": {
        "id": "XHMkIAZ1_ybz"
      },
      "execution_count": 23,
      "outputs": []
    },
    {
      "cell_type": "code",
      "source": [
        "employees[\"salary\"] = employees[\"salary\"].convert_dtypes(pd.Int64Dtype)"
      ],
      "metadata": {
        "id": "vyosRerB_7js"
      },
      "execution_count": 24,
      "outputs": []
    },
    {
      "cell_type": "code",
      "source": [
        "employees[\"hire_date\"] = pd.to_datetime(employees[\"hire_date\"])"
      ],
      "metadata": {
        "id": "iADszFT6AD51"
      },
      "execution_count": 25,
      "outputs": []
    },
    {
      "cell_type": "code",
      "source": [
        "employees.info()"
      ],
      "metadata": {
        "colab": {
          "base_uri": "https://localhost:8080/"
        },
        "id": "gKlh8gX-AWj8",
        "outputId": "817e93bc-136d-41b6-9cd1-1c28a79753b4"
      },
      "execution_count": 26,
      "outputs": [
        {
          "output_type": "stream",
          "name": "stdout",
          "text": [
            "<class 'pandas.core.frame.DataFrame'>\n",
            "RangeIndex: 1000 entries, 0 to 999\n",
            "Data columns (total 5 columns):\n",
            " #   Column         Non-Null Count  Dtype         \n",
            "---  ------         --------------  -----         \n",
            " 0   id             1000 non-null   int64         \n",
            " 1   name           1000 non-null   string        \n",
            " 2   department_id  1000 non-null   object        \n",
            " 3   salary         1000 non-null   string        \n",
            " 4   hire_date      1000 non-null   datetime64[ns]\n",
            "dtypes: datetime64[ns](1), int64(1), object(1), string(2)\n",
            "memory usage: 39.2+ KB\n"
          ]
        }
      ]
    },
    {
      "cell_type": "code",
      "source": [
        "employees=pd.merge(employees,departments,how=\"inner\",left_on=\"department_id\",right_on=\"name\")"
      ],
      "metadata": {
        "id": "fbmqUmC6A3ch"
      },
      "execution_count": 27,
      "outputs": []
    },
    {
      "cell_type": "code",
      "source": [
        "employees=employees[[\"id_x\",\"name_x\",\"id_y\",\"salary\",\"hire_date\"]]"
      ],
      "metadata": {
        "id": "IrHpgDKVBxwq"
      },
      "execution_count": 28,
      "outputs": []
    },
    {
      "cell_type": "code",
      "source": [
        "employees=employees.rename(columns={\"id_x\":\"id\",\"name_x\":\"name\",\"id_y\":\"department_id\"})"
      ],
      "metadata": {
        "id": "X_7Jfz_jCMhj"
      },
      "execution_count": 29,
      "outputs": []
    },
    {
      "cell_type": "code",
      "source": [
        "employees.to_csv(\"employees.csv\",index=False)"
      ],
      "metadata": {
        "id": "2J3AKhagC2Gs"
      },
      "execution_count": 30,
      "outputs": []
    },
    {
      "cell_type": "code",
      "source": [
        "projects=projects.head(20)"
      ],
      "metadata": {
        "id": "nqweM_k6DD0k"
      },
      "execution_count": 31,
      "outputs": []
    },
    {
      "cell_type": "code",
      "source": [
        "employees.columns"
      ],
      "metadata": {
        "colab": {
          "base_uri": "https://localhost:8080/"
        },
        "id": "9dj-bEkRZf5-",
        "outputId": "0dbf1a5b-e4d7-4fff-cdba-fa4b1fc2e75d"
      },
      "execution_count": 32,
      "outputs": [
        {
          "output_type": "execute_result",
          "data": {
            "text/plain": [
              "Index(['id', 'name', 'department_id', 'salary', 'hire_date'], dtype='object')"
            ]
          },
          "metadata": {},
          "execution_count": 32
        }
      ]
    },
    {
      "cell_type": "code",
      "source": [
        "projects.columns"
      ],
      "metadata": {
        "colab": {
          "base_uri": "https://localhost:8080/"
        },
        "id": "IcsFc4_0ZqFZ",
        "outputId": "3504326f-7d52-4875-f1a8-5cfc4d7e87d1"
      },
      "execution_count": 33,
      "outputs": [
        {
          "output_type": "execute_result",
          "data": {
            "text/plain": [
              "Index(['id', 'name', 'start_date', 'end_date'], dtype='object')"
            ]
          },
          "metadata": {},
          "execution_count": 33
        }
      ]
    },
    {
      "cell_type": "code",
      "source": [
        "# Add a sequential index to both DataFrames\n",
        "employees['emp_order'] = range(len(employees))\n",
        "projects['proj_order'] = range(len(projects))"
      ],
      "metadata": {
        "colab": {
          "base_uri": "https://localhost:8080/"
        },
        "id": "8NrqO4C7dMUv",
        "outputId": "6661a31e-b062-4dc2-8adc-13cef57f99cf"
      },
      "execution_count": 34,
      "outputs": [
        {
          "output_type": "stream",
          "name": "stderr",
          "text": [
            "<ipython-input-34-8df17ab9bbb8>:3: SettingWithCopyWarning: \n",
            "A value is trying to be set on a copy of a slice from a DataFrame.\n",
            "Try using .loc[row_indexer,col_indexer] = value instead\n",
            "\n",
            "See the caveats in the documentation: https://pandas.pydata.org/pandas-docs/stable/user_guide/indexing.html#returning-a-view-versus-a-copy\n",
            "  projects['proj_order'] = range(len(projects))\n"
          ]
        }
      ]
    },
    {
      "cell_type": "code",
      "source": [
        "# Perform the cross-join\n",
        "merged_df = pd.merge(employees, projects, how='cross')"
      ],
      "metadata": {
        "id": "FvNZ1h7VdN5w"
      },
      "execution_count": 35,
      "outputs": []
    },
    {
      "cell_type": "code",
      "source": [
        "# Function to randomly select N projects for each employee\n",
        "def select_random_projects(group, n=2):\n",
        "    if len(group) >= n:\n",
        "        return group.sample(n=n)\n",
        "    else:\n",
        "        return group # Or handle cases with fewer projects differently"
      ],
      "metadata": {
        "id": "qqNRNAASdQgt"
      },
      "execution_count": 36,
      "outputs": []
    },
    {
      "cell_type": "code",
      "source": [
        "# Group by employee ID and apply the selection function\n",
        "assigned_multiple_df = merged_df.groupby('id_x', group_keys=False).apply(select_random_projects).reset_index(drop=True)"
      ],
      "metadata": {
        "colab": {
          "base_uri": "https://localhost:8080/"
        },
        "id": "YWIEgD6ddVXl",
        "outputId": "e94c7bc2-8fb4-4968-e83b-5e4c04f793ef"
      },
      "execution_count": 37,
      "outputs": [
        {
          "output_type": "stream",
          "name": "stderr",
          "text": [
            "<ipython-input-37-bf69b6cd9db8>:2: DeprecationWarning: DataFrameGroupBy.apply operated on the grouping columns. This behavior is deprecated, and in a future version of pandas the grouping columns will be excluded from the operation. Either pass `include_groups=False` to exclude the groupings or explicitly select the grouping columns after groupby to silence this warning.\n",
            "  assigned_multiple_df = merged_df.groupby('id_x', group_keys=False).apply(select_random_projects).reset_index(drop=True)\n"
          ]
        }
      ]
    },
    {
      "cell_type": "code",
      "source": [
        "# Rename columns as needed - PROVIDE 11 NAMES\n",
        "assigned_multiple_df.columns = ['employee_id', 'employee_name', 'department_id', 'salary', 'hire_date', 'employee_order',\n",
        "                                  'project_id', 'project_name', 'project_start_date', 'project_end_date', 'project_order']"
      ],
      "metadata": {
        "id": "oyOoJBYzdZN9"
      },
      "execution_count": 38,
      "outputs": []
    },
    {
      "cell_type": "code",
      "source": [
        "print(assigned_multiple_df.head())\n",
        "print(f\"Number of assigned rows: {len(assigned_multiple_df)}\")"
      ],
      "metadata": {
        "colab": {
          "base_uri": "https://localhost:8080/"
        },
        "id": "mTS4fZQYX19F",
        "outputId": "d846207d-9d44-4e1d-b333-ac382fcc01ab"
      },
      "execution_count": 39,
      "outputs": [
        {
          "output_type": "stream",
          "name": "stdout",
          "text": [
            "   employee_id employee_name  department_id     salary  hire_date  \\\n",
            "0            1  Maren Lowing              2  $89276.92 2023-01-06   \n",
            "1            1  Maren Lowing              2  $89276.92 2023-01-06   \n",
            "2            2  Doria Dawley              7  $10965.53 2018-01-27   \n",
            "3            2  Doria Dawley              7  $10965.53 2018-01-27   \n",
            "4            3  Selie Jimmes             11  $94600.13 2015-08-06   \n",
            "\n",
            "   employee_order  project_id project_name project_start_date  \\\n",
            "0               0          12     Treeflex         2024-10-26   \n",
            "1               0          14       Namfix         2024-08-23   \n",
            "2               1          12     Treeflex         2024-10-26   \n",
            "3               1           9        Otcom         2024-06-19   \n",
            "4               2          12     Treeflex         2024-10-26   \n",
            "\n",
            "  project_end_date  project_order  \n",
            "0       2024-04-04             11  \n",
            "1       2025-02-05             13  \n",
            "2       2024-04-04             11  \n",
            "3       2025-03-29              8  \n",
            "4       2024-04-04             11  \n",
            "Number of assigned rows: 2000\n"
          ]
        }
      ]
    },
    {
      "cell_type": "code",
      "source": [
        "# Create the 'assigned_date' column using the 'project_start_date'\n",
        "assigned_multiple_df['assigned_date'] = assigned_multiple_df['project_start_date']\n",
        "\n",
        "# Display the first few rows with the new column\n",
        "print(assigned_multiple_df.head())\n",
        "\n",
        "# Verify the new column is present in the DataFrame's columns\n",
        "print(assigned_multiple_df.columns)"
      ],
      "metadata": {
        "colab": {
          "base_uri": "https://localhost:8080/"
        },
        "id": "VmUnznlRhKyW",
        "outputId": "3e2304b8-5dda-4aca-be84-348aa5ac571c"
      },
      "execution_count": 40,
      "outputs": [
        {
          "output_type": "stream",
          "name": "stdout",
          "text": [
            "   employee_id employee_name  department_id     salary  hire_date  \\\n",
            "0            1  Maren Lowing              2  $89276.92 2023-01-06   \n",
            "1            1  Maren Lowing              2  $89276.92 2023-01-06   \n",
            "2            2  Doria Dawley              7  $10965.53 2018-01-27   \n",
            "3            2  Doria Dawley              7  $10965.53 2018-01-27   \n",
            "4            3  Selie Jimmes             11  $94600.13 2015-08-06   \n",
            "\n",
            "   employee_order  project_id project_name project_start_date  \\\n",
            "0               0          12     Treeflex         2024-10-26   \n",
            "1               0          14       Namfix         2024-08-23   \n",
            "2               1          12     Treeflex         2024-10-26   \n",
            "3               1           9        Otcom         2024-06-19   \n",
            "4               2          12     Treeflex         2024-10-26   \n",
            "\n",
            "  project_end_date  project_order assigned_date  \n",
            "0       2024-04-04             11    2024-10-26  \n",
            "1       2025-02-05             13    2024-08-23  \n",
            "2       2024-04-04             11    2024-10-26  \n",
            "3       2025-03-29              8    2024-06-19  \n",
            "4       2024-04-04             11    2024-10-26  \n",
            "Index(['employee_id', 'employee_name', 'department_id', 'salary', 'hire_date',\n",
            "       'employee_order', 'project_id', 'project_name', 'project_start_date',\n",
            "       'project_end_date', 'project_order', 'assigned_date'],\n",
            "      dtype='object')\n"
          ]
        }
      ]
    },
    {
      "cell_type": "markdown",
      "source": [
        "employee_projects (\n",
        "  employee_id INT,\n",
        "  project_id INT,\n",
        "  assigned_date DATE,\n",
        "  PRIMARY KEY (employee_id, project_id)\n",
        ")"
      ],
      "metadata": {
        "id": "b2Y245LCgcT6"
      }
    },
    {
      "cell_type": "code",
      "source": [
        "assigned_multiple_df.columns"
      ],
      "metadata": {
        "colab": {
          "base_uri": "https://localhost:8080/"
        },
        "id": "fKvsUovddxRX",
        "outputId": "354c1424-2dd3-4689-ae8d-bf0b45ba0b09"
      },
      "execution_count": 41,
      "outputs": [
        {
          "output_type": "execute_result",
          "data": {
            "text/plain": [
              "Index(['employee_id', 'employee_name', 'department_id', 'salary', 'hire_date',\n",
              "       'employee_order', 'project_id', 'project_name', 'project_start_date',\n",
              "       'project_end_date', 'project_order', 'assigned_date'],\n",
              "      dtype='object')"
            ]
          },
          "metadata": {},
          "execution_count": 41
        }
      ]
    },
    {
      "cell_type": "code",
      "source": [
        "assigned_multiple_df=assigned_multiple_df[['employee_id','project_id','assigned_date']]"
      ],
      "metadata": {
        "id": "Uu1b755YggdO"
      },
      "execution_count": 42,
      "outputs": []
    },
    {
      "cell_type": "code",
      "source": [
        "assigned_multiple_df.to_csv(\"employee_projects\",index=False)"
      ],
      "metadata": {
        "id": "NG0e1uDBhTY_"
      },
      "execution_count": 43,
      "outputs": []
    },
    {
      "cell_type": "code",
      "source": [
        "assigned_multiple_df.info()"
      ],
      "metadata": {
        "colab": {
          "base_uri": "https://localhost:8080/"
        },
        "id": "XT_Spn0YjAms",
        "outputId": "f8c615e7-afda-419d-b3e1-ff65c71a9173"
      },
      "execution_count": 45,
      "outputs": [
        {
          "output_type": "stream",
          "name": "stdout",
          "text": [
            "<class 'pandas.core.frame.DataFrame'>\n",
            "RangeIndex: 2000 entries, 0 to 1999\n",
            "Data columns (total 3 columns):\n",
            " #   Column         Non-Null Count  Dtype         \n",
            "---  ------         --------------  -----         \n",
            " 0   employee_id    2000 non-null   int64         \n",
            " 1   project_id     2000 non-null   int64         \n",
            " 2   assigned_date  2000 non-null   datetime64[ns]\n",
            "dtypes: datetime64[ns](1), int64(2)\n",
            "memory usage: 47.0 KB\n"
          ]
        }
      ]
    }
  ]
}